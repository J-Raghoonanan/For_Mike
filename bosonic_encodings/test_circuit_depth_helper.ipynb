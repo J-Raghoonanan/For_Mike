{
 "cells": [
  {
   "cell_type": "code",
   "execution_count": 1,
   "id": "ed88b8a5-7ded-48f3-8bd6-e7114b6aee25",
   "metadata": {
    "tags": []
   },
   "outputs": [
    {
     "name": "stdout",
     "output_type": "stream",
     "text": [
      "importing Jupyter notebook from circuit_depth_helper.ipynb\n"
     ]
    }
   ],
   "source": [
    "# Tests for hermite_enc.py\n",
    "# \n",
    "# pytest -s test_circuit_depth.ipynb\n",
    "\n",
    "import import_ipynb\n",
    "# %run X_or_P_Hermite_enc.ipynb\n",
    "import circuit_depth_helper\n",
    "from openfermion import QubitOperator\n",
    "import mat2qubit as m2q, numpy as np\n",
    "import qiskit as q\n",
    "from qiskit.quantum_info import Pauli, SparsePauliOp\n",
    "from qiskit.circuit.library import PauliEvolutionGate, QFT"
   ]
  },
  {
   "cell_type": "code",
   "execution_count": 2,
   "id": "2084fa76-748d-418c-a187-56f84739b502",
   "metadata": {},
   "outputs": [],
   "source": [
    "def test_convert_op_string_to_usefulForm():\n",
    "    '''\n",
    "    Test convert_op_string_to_usefulForm\n",
    "    '''\n",
    "    op=QubitOperator(\"0.5 [Z0 Z1] + 4 [Z0 Z2]\")\n",
    "    test=circuit_depth_helper.convert_op_string_to_usefulForm(op, 4)[0]\n",
    "    gold=SparsePauliOp.from_list([(\"IIZZ\",.5),(\"IZIZ\",4)])\n",
    "    assert gold==test\n",
    "    \n",
    "    return\n",
    "    "
   ]
  },
  {
   "cell_type": "code",
   "execution_count": 3,
   "id": "ab4a9243-343f-455d-b62c-10b300602db4",
   "metadata": {
    "tags": []
   },
   "outputs": [],
   "source": [
    "test_convert_op_string_to_usefulForm()"
   ]
  },
  {
   "cell_type": "code",
   "execution_count": 4,
   "id": "21f1e989-465b-40aa-ac5e-fbb296208088",
   "metadata": {
    "tags": []
   },
   "outputs": [],
   "source": [
    "def test_calculate_error():\n",
    "    '''\n",
    "    Test calculate_error\n",
    "    '''\n",
    "    \n",
    "    test=[('Z',1)]\n",
    "    t1=circuit_depth_helper.calculate_error(test,1)\n",
    "    assert t1==(1, 0.0)\n",
    "    \n",
    "    return"
   ]
  },
  {
   "cell_type": "code",
   "execution_count": 5,
   "id": "4fdf9e32-65a3-475c-b785-9d86869f217e",
   "metadata": {
    "tags": []
   },
   "outputs": [],
   "source": [
    "test_calculate_error()"
   ]
  },
  {
   "cell_type": "code",
   "execution_count": 6,
   "id": "374943d6-808d-4b6c-a105-a4f47a4254cc",
   "metadata": {},
   "outputs": [],
   "source": [
    "def test_create_circuit_v1():\n",
    "    '''\n",
    "    Test create_circuit_v1\n",
    "    '''\n",
    "    op0 = \"[Z0]\"\n",
    "    info = circuit_depth_helper.create_circuit_v1(\"test_0\",op0,[4],0)\n",
    "    test_c = info[0]\n",
    "    r_er_l = info[1]\n",
    "    \n",
    "    qc=q.QuantumCircuit(2,2)\n",
    "    h = SparsePauliOp.from_list([(\"IZ\",1)])\n",
    "    evol_gate = PauliEvolutionGate(h, time=1)\n",
    "    qc.append(evol_gate,[0,1])\n",
    "    \n",
    "    assert (r_er_l==(1, 0.0))\n",
    "    assert qc.decompose()==test_c.decompose().decompose()\n",
    "    \n",
    "    return"
   ]
  },
  {
   "cell_type": "code",
   "execution_count": 7,
   "id": "f1fb674c-ecea-4e08-bf17-886cae990542",
   "metadata": {},
   "outputs": [
    {
     "name": "stdout",
     "output_type": "stream",
     "text": [
      "\n"
     ]
    }
   ],
   "source": [
    "test_create_circuit_v1()"
   ]
  },
  {
   "cell_type": "code",
   "execution_count": 8,
   "id": "9059ad51-be86-467e-a748-19194f99952d",
   "metadata": {},
   "outputs": [],
   "source": [
    "def test_create_circuit():\n",
    "    '''\n",
    "    Test create_circuit\n",
    "    '''\n",
    "    op0 = \"[Z0]\"\n",
    "    info = circuit_depth_helper.create_circuit(\"test_0\",op0,[4],0,1,0)\n",
    "    test_c = info\n",
    "    \n",
    "    qc=q.QuantumCircuit(2,2)\n",
    "    h = SparsePauliOp.from_list([(\"IZ\",1)])\n",
    "    h_norm = np.linalg.norm(h, ord='fro')\n",
    "    h_t = 1/h_norm \n",
    "    evol_gate = PauliEvolutionGate(h, time=h_t)\n",
    "    qc.append(evol_gate,[0,1])\n",
    "    \n",
    "    assert qc.decompose()==test_c.decompose().decompose()\n",
    "    \n",
    "    return"
   ]
  },
  {
   "cell_type": "code",
   "execution_count": 9,
   "id": "24410109-8763-45af-840f-3581700395cc",
   "metadata": {
    "tags": []
   },
   "outputs": [
    {
     "name": "stdout",
     "output_type": "stream",
     "text": [
      "\n"
     ]
    }
   ],
   "source": [
    "test_create_circuit()"
   ]
  },
  {
   "cell_type": "code",
   "execution_count": 10,
   "id": "d83a4228-94ca-4576-bdce-9fa16a676716",
   "metadata": {
    "tags": []
   },
   "outputs": [],
   "source": [
    "def test_inner_prod():\n",
    "    '''\n",
    "    Test calc_inner_prod_sq\n",
    "    '''\n",
    "    v1 = [1,0]\n",
    "    v2 = [0,1]\n",
    "    r1 = circuit_depth_helper.calc_inner_prod_sq(v1,v2)\n",
    "    assert r1==0\n",
    "    \n",
    "    v3 = [1,complex(0,1)]\n",
    "    v4 = [0,1]\n",
    "    r2 = circuit_depth_helper.calc_inner_prod_sq(v3,v4)\n",
    "    assert r2==1\n",
    "    \n",
    "    v5 = [1,1,complex(1,1)]\n",
    "    v6 = [complex(1,2),0,1]\n",
    "    r3 = circuit_depth_helper.calc_inner_prod_sq(v5,v6)\n",
    "    assert r3==5\n",
    "    \n",
    "    return\n"
   ]
  },
  {
   "cell_type": "code",
   "execution_count": 11,
   "id": "7d5d4fcb-8ea5-4f88-8994-adf7d3827537",
   "metadata": {
    "tags": []
   },
   "outputs": [],
   "source": [
    "test_inner_prod()"
   ]
  },
  {
   "cell_type": "code",
   "execution_count": 12,
   "id": "17edffe6-2c11-4639-beff-993fa40aaff3",
   "metadata": {},
   "outputs": [],
   "source": [
    "def test_fidelity():\n",
    "    '''\n",
    "    Test fidelity\n",
    "    '''\n",
    "    \n",
    "    H = SparsePauliOp.from_list([(\"Z\",1)])\n",
    "    H= H.to_matrix()\n",
    "    \n",
    "    qc=circuit_depth_helper.create_circuit(\"test\",\"[Z0]\",[2],0,1,0)\n",
    "    psi = np.array([1,0])\n",
    "    tot_qub = 1\n",
    "    fidelity = circuit_depth_helper.fidelity(qc,H,1,psi,tot_qub)\n",
    "    \n",
    "    assert fidelity == 0\n",
    "    return"
   ]
  },
  {
   "cell_type": "code",
   "execution_count": 13,
   "id": "d0e946bc-a4c8-4f6f-8d7c-6108faa69dbb",
   "metadata": {
    "tags": []
   },
   "outputs": [
    {
     "name": "stdout",
     "output_type": "stream",
     "text": [
      "\n"
     ]
    }
   ],
   "source": [
    "test_fidelity()"
   ]
  },
  {
   "cell_type": "code",
   "execution_count": null,
   "id": "87110ef6-ce2f-438e-b6e6-771121056d76",
   "metadata": {
    "tags": []
   },
   "outputs": [],
   "source": []
  },
  {
   "cell_type": "code",
   "execution_count": null,
   "id": "0f90965e-63fa-491d-b3df-519f8952f489",
   "metadata": {},
   "outputs": [],
   "source": []
  }
 ],
 "metadata": {
  "kernelspec": {
   "display_name": "Python 3 (ipykernel)",
   "language": "python",
   "name": "python3"
  },
  "language_info": {
   "codemirror_mode": {
    "name": "ipython",
    "version": 3
   },
   "file_extension": ".py",
   "mimetype": "text/x-python",
   "name": "python",
   "nbconvert_exporter": "python",
   "pygments_lexer": "ipython3",
   "version": "3.9.17"
  }
 },
 "nbformat": 4,
 "nbformat_minor": 5
}
