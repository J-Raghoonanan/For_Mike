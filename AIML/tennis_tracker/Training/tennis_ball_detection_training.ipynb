{
 "cells": [
  {
   "cell_type": "code",
   "execution_count": null,
   "metadata": {},
   "outputs": [],
   "source": [
    "!pip install roboflow\n",
    "!pip install ultralytics"
   ]
  },
  {
   "cell_type": "markdown",
   "metadata": {},
   "source": [
    "### Preliminary Setup\n",
    "\n",
    "1. Get data: \n",
    "    we need separate data for identifying the tennis ball from roboflow; tennis videos are already in Input_videos directory\n",
    "2. Appropriately setup data files"
   ]
  },
  {
   "cell_type": "code",
   "execution_count": 1,
   "metadata": {},
   "outputs": [
    {
     "name": "stdout",
     "output_type": "stream",
     "text": [
      "loading Roboflow workspace...\n",
      "loading Roboflow project...\n"
     ]
    },
    {
     "name": "stderr",
     "output_type": "stream",
     "text": [
      "Downloading Dataset Version Zip in tennis-ball-detection-6 to yolov5pytorch:: 100%|██████████| 52040/52040 [00:29<00:00, 1760.16it/s]"
     ]
    },
    {
     "name": "stdout",
     "output_type": "stream",
     "text": [
      "\n"
     ]
    },
    {
     "name": "stderr",
     "output_type": "stream",
     "text": [
      "\n",
      "Extracting Dataset Version Zip to tennis-ball-detection-6 in yolov5pytorch:: 100%|██████████| 1168/1168 [00:00<00:00, 8384.24it/s]\n"
     ]
    }
   ],
   "source": [
    "from roboflow import Roboflow\n",
    "API_Key = input(\"Enter API Key: \")\n",
    "rf = Roboflow(api_key=API_Key)\n",
    "project = rf.workspace(\"viren-dhanwani\").project(\"tennis-ball-detection\")\n",
    "version = project.version(6)\n",
    "dataset = version.download(\"yolov5\")\n",
    "                "
   ]
  },
  {
   "cell_type": "code",
   "execution_count": 2,
   "metadata": {},
   "outputs": [],
   "source": [
    "import shutil"
   ]
  },
  {
   "cell_type": "code",
   "execution_count": 3,
   "metadata": {},
   "outputs": [
    {
     "data": {
      "text/plain": [
       "'tennis-ball-detection-6/tennis-ball-detection-6/valid'"
      ]
     },
     "execution_count": 3,
     "metadata": {},
     "output_type": "execute_result"
    }
   ],
   "source": [
    "shutil.move(\"tennis-ball-detection-6/train\",\n",
    "           \"tennis-ball-detection-6/tennis-ball-detection-6/train\")\n",
    "shutil.move(\"tennis-ball-detection-6/test\",\n",
    "           \"tennis-ball-detection-6/tennis-ball-detection-6/test\")\n",
    "shutil.move(\"tennis-ball-detection-6/valid\",\n",
    "           \"tennis-ball-detection-6/tennis-ball-detection-6/valid\")"
   ]
  },
  {
   "cell_type": "code",
   "execution_count": 4,
   "metadata": {},
   "outputs": [
    {
     "name": "stdout",
     "output_type": "stream",
     "text": [
      "Intel MKL WARNING: Support of Intel(R) Streaming SIMD Extensions 4.2 (Intel(R) SSE4.2) enabled only processors has been deprecated. Intel oneAPI Math Kernel Library 2025.0 will require Intel(R) Advanced Vector Extensions (Intel(R) AVX) instructions.\n",
      "Intel MKL WARNING: Support of Intel(R) Streaming SIMD Extensions 4.2 (Intel(R) SSE4.2) enabled only processors has been deprecated. Intel oneAPI Math Kernel Library 2025.0 will require Intel(R) Advanced Vector Extensions (Intel(R) AVX) instructions.\n",
      "OMP: Error #15: Initializing libiomp5.dylib, but found libiomp5.dylib already initialized.\n",
      "OMP: Hint This means that multiple copies of the OpenMP runtime have been linked into the program. That is dangerous, since it can degrade performance or cause incorrect results. The best thing to do is to ensure that only a single OpenMP runtime is linked into the process, e.g. by avoiding static linking of the OpenMP runtime in any library. As an unsafe, unsupported, undocumented workaround you can set the environment variable KMP_DUPLICATE_LIB_OK=TRUE to allow the program to continue to execute, but that may cause crashes or silently produce incorrect results. For more information, please see http://www.intel.com/software/products/support/.\n"
     ]
    }
   ],
   "source": [
    "!yolo task=detect mode=train model=yolov516u.pt data={dataset.location}/data.yaml epochs=100 imgsz=640"
   ]
  },
  {
   "cell_type": "code",
   "execution_count": null,
   "metadata": {},
   "outputs": [],
   "source": []
  }
 ],
 "metadata": {
  "kernelspec": {
   "display_name": "machine_learning_env",
   "language": "python",
   "name": "python3"
  },
  "language_info": {
   "codemirror_mode": {
    "name": "ipython",
    "version": 3
   },
   "file_extension": ".py",
   "mimetype": "text/x-python",
   "name": "python",
   "nbconvert_exporter": "python",
   "pygments_lexer": "ipython3",
   "version": "3.9.18"
  }
 },
 "nbformat": 4,
 "nbformat_minor": 2
}
