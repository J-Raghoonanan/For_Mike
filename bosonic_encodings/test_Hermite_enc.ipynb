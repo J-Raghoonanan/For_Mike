{
 "cells": [
  {
   "cell_type": "code",
   "execution_count": 1,
   "id": "a77febd8-44ad-4af8-a6b1-a374304ab424",
   "metadata": {
    "tags": []
   },
   "outputs": [
    {
     "name": "stdout",
     "output_type": "stream",
     "text": [
      "importing Jupyter notebook from Hermite_enc.ipynb\n",
      "importing Jupyter notebook from Hermite_helper_fns.ipynb\n"
     ]
    }
   ],
   "source": [
    "# Tests for hermite_enc.py\n",
    "# \n",
    "# pytest -s test_Hermite_enc.ipynb\n",
    "\n",
    "import import_ipynb\n",
    "# %run X_or_P_Hermite_enc.ipynb\n",
    "import Hermite_enc\n",
    "from openfermion import QubitOperator\n",
    "import mat2qubit as m2q"
   ]
  },
  {
   "cell_type": "code",
   "execution_count": 4,
   "id": "16d5909a-b2b7-4949-b73c-9dc10ec9baaf",
   "metadata": {
    "tags": []
   },
   "outputs": [],
   "source": [
    "def test_str_Hermite_encoding_X_or_P():\n",
    "    '''\n",
    "    Test str_Hermite_encoding_X_or_P\n",
    "    '''\n",
    "    # 2-qubit X case\n",
    "    t1=Hermite_enc.str_Hermite_encoding_X_or_P(\"X2\",[4],0.5)\n",
    "    gold_t1=QubitOperator(\"2.5 [] + 2.0 [Z0 Z1]\")\n",
    "    assert gold_t1==t1\n",
    "\n",
    "    # Multi-register X case\n",
    "    t2=Hermite_enc.str_Hermite_encoding_X_or_P(\"X2_1\",[4,8],0.5)\n",
    "    gold_t2=QubitOperator(\"10.5 [] + 2.0 [Z2 Z3] + 4.0 [Z2 Z4] + 8.0 [Z3 Z4]\")\n",
    "    assert gold_t2==t2\n",
    "    \n",
    "    # 2-qubit P case\n",
    "    t3=Hermite_enc.str_Hermite_encoding_X_or_P(\"P\",[4],1)\n",
    "    gold_t3=QubitOperator(\"1 [Z0] + 2 [Z1]\")\n",
    "    assert gold_t3==t3\n",
    "\n",
    "    # Multi-register P case\n",
    "    t4=Hermite_enc.str_Hermite_encoding_X_or_P(\"P2_0 P_1\",[4,4],1)\n",
    "    gold_t4=QubitOperator(\"4 [Z0 Z1 Z2] + 8 [Z0 Z1 Z3] + 5 [Z2] + 10 [Z3]\")\n",
    "    assert gold_t4==t4\n",
    "    \n",
    "    # Multi-register P case\n",
    "    t5=Hermite_enc.str_Hermite_encoding_X_or_P(\"P2_0\",[4,4],0.5)\n",
    "    gold_t5=QubitOperator(\"2.5 [] + 2.0 [Z0 Z1]\")\n",
    "    assert gold_t5==t5\n",
    "    "
   ]
  },
  {
   "cell_type": "code",
   "execution_count": 5,
   "id": "a3cc1f47-667f-4521-aed0-ed96c7cc13c7",
   "metadata": {
    "tags": []
   },
   "outputs": [],
   "source": [
    "test_str_Hermite_encoding_X_or_P()"
   ]
  },
  {
   "cell_type": "code",
   "execution_count": null,
   "id": "5b842b49-144b-4b96-973c-4d6a285313d3",
   "metadata": {},
   "outputs": [],
   "source": []
  },
  {
   "cell_type": "code",
   "execution_count": 6,
   "id": "4d49b244-dc39-4352-ae0a-8d6d741fcd7e",
   "metadata": {
    "tags": []
   },
   "outputs": [],
   "source": [
    "def test_Hermite_encoding_strings():\n",
    "    '''\n",
    "    Test Hermite_encoding with string inputs\n",
    "    '''\n",
    "    # Testing strings\n",
    "    \n",
    "    # 2-qubit X case\n",
    "    t1=Hermite_enc.Hermite_encoding(\"0.5 X2\",[4])[0]\n",
    "    gold_t1=QubitOperator(\"(2.5+0j) [] + (2+0j) [Z0 Z1]\")\n",
    "    assert gold_t1==t1\n",
    "\n",
    "    # Multi-register X case\n",
    "    t2=Hermite_enc.Hermite_encoding(\".5 X2_0 X_1\",[4,4])[0]\n",
    "    gold_t2=QubitOperator(\"(2+0j) [Z0 Z1 Z2] + (4+0j) [Z0 Z1 Z3] + (2.5+0j) [Z2] + (5+0j) [Z3]\")\n",
    "    assert gold_t2==t2\n",
    "    \n",
    "    # 2-qubit P case\n",
    "    t3=Hermite_enc.Hermite_encoding(\"P\",[4])[1]\n",
    "    gold_t3=QubitOperator(\"1 [Z0] + 2 [Z1]\")\n",
    "    assert gold_t3==t3\n",
    "    \n",
    "    # Multi-register P case\n",
    "    t4=Hermite_enc.Hermite_encoding(\"P2_0 P_1\",[4,4])[1]\n",
    "    gold_t4=QubitOperator(\"4.0 [Z0 Z1 Z2] + 8.0 [Z0 Z1 Z3] + 5.0 [Z2] + 10.0 [Z3]\")\n",
    "    assert gold_t4==t4\n",
    "    \n",
    "    # Mixed terms\n",
    "    t5_x=Hermite_enc.Hermite_encoding(\"X_0 P_1\",[4,4])[2][0][0]\n",
    "    t5_y=Hermite_enc.Hermite_encoding(\"X_0 P_1\",[4,4])[2][0][1]\n",
    "    gold_t5_x=QubitOperator(\"1 [Z0] + 2 [Z1]\")\n",
    "    gold_t5_y=QubitOperator(\"1 [Z2] + 2 [Z3]\")\n",
    "    assert gold_t5_x==t5_x\n",
    "    assert gold_t5_y==t5_y\n",
    "    \n",
    "    # Mixed terms\n",
    "    t6_x=Hermite_enc.Hermite_encoding(\"P_0 X_1\",[4,4])[3][0][0]\n",
    "    t6_p=Hermite_enc.Hermite_encoding(\"P_0 X_1\",[4,4])[3][0][1]\n",
    "    gold_t6_x=QubitOperator(\"1 [Z2] + 2 [Z3]\")\n",
    "    gold_t6_p=QubitOperator(\"1 [Z0] + 2 [Z1]\")\n",
    "    assert gold_t6_x==t6_x\n",
    "    assert gold_t6_p==t6_p\n",
    "    \n",
    "    \n",
    "    "
   ]
  },
  {
   "cell_type": "code",
   "execution_count": 7,
   "id": "865fa0fe-dc1a-4480-bac9-019972fccf38",
   "metadata": {
    "tags": []
   },
   "outputs": [],
   "source": [
    "test_Hermite_encoding_strings()"
   ]
  },
  {
   "cell_type": "code",
   "execution_count": null,
   "id": "bfe265a9-305a-4939-b3c0-7fc0b30c32a9",
   "metadata": {},
   "outputs": [],
   "source": []
  },
  {
   "cell_type": "code",
   "execution_count": 8,
   "id": "25d7c792-5f2f-466d-a234-2f5abf89d7ce",
   "metadata": {
    "tags": []
   },
   "outputs": [],
   "source": [
    "def test_Hermite_encoding_qSymbOp():\n",
    "    '''\n",
    "    Test Hermite_encoding with qSymbOp inputs\n",
    "    '''\n",
    "    # Testing qSymbOp\n",
    "    \n",
    "    # 2-qubit X case\n",
    "    ham_model = m2q.qSymbOp(\"0.5 [X2_0]\")\n",
    "    t1=Hermite_enc.Hermite_encoding(ham_model,[4])[0]\n",
    "    gold_t1=QubitOperator(\"(2.5+0j) [] + (2+0j) [Z0 Z1]\")\n",
    "    assert gold_t1==t1\n",
    "\n",
    "    # Multi-register X case\n",
    "    ham_model = m2q.qSymbOp(\".5 [X2_0 X_1]\")\n",
    "    t2=Hermite_enc.Hermite_encoding(ham_model,[4,4])[0]\n",
    "    gold_t2=QubitOperator(\"(2+0j) [Z0 Z1 Z2] + (4+0j) [Z0 Z1 Z3] + (2.5+0j) [Z2] + (5+0j) [Z3]\")\n",
    "    assert gold_t2==t2\n",
    "    \n",
    "    # 2-qubit P case\n",
    "    ham_model = m2q.qSymbOp(\"[P_0]\")\n",
    "    t3=Hermite_enc.Hermite_encoding(ham_model,[4])[1]\n",
    "    gold_t3=QubitOperator(\"1 [Z0] + 2 [Z1]\")\n",
    "    assert gold_t3==t3\n",
    "    \n",
    "    # Multi-register P case\n",
    "    ham_model = m2q.qSymbOp(\"[P2_0 P_1]\")\n",
    "    t4=Hermite_enc.Hermite_encoding(ham_model,[4,4])[1]\n",
    "    gold_t4=QubitOperator(\"4.0 [Z0 Z1 Z2] + 8.0 [Z0 Z1 Z3] + 5.0 [Z2] + 10.0 [Z3]\")\n",
    "    assert gold_t4==t4\n",
    "    \n",
    "    # Mixed terms\n",
    "    ham_model = m2q.qSymbOp(\"[X_0 P_1]\")\n",
    "    t5_x=Hermite_enc.Hermite_encoding(ham_model,[4,4])[2][0][0]\n",
    "    t5_y=Hermite_enc.Hermite_encoding(ham_model,[4,4])[2][0][1]\n",
    "    gold_t5_x=QubitOperator(\"1 [Z0] + 2 [Z1]\")\n",
    "    gold_t5_y=QubitOperator(\"1 [Z2] + 2 [Z3]\")\n",
    "    assert gold_t5_x==t5_x\n",
    "    assert gold_t5_y==t5_y\n",
    "    \n",
    "    # Mixed terms\n",
    "    ham_model = m2q.qSymbOp(\"[P_0 X_1]\")\n",
    "    t6_x=Hermite_enc.Hermite_encoding(ham_model,[4,4])[3][0][0]\n",
    "    t6_p=Hermite_enc.Hermite_encoding(ham_model,[4,4])[3][0][1]\n",
    "    gold_t6_x=QubitOperator(\"1 [Z2] + 2 [Z3]\")\n",
    "    gold_t6_p=QubitOperator(\"1 [Z0] + 2 [Z1]\")\n",
    "    assert gold_t6_x==t6_x\n",
    "    assert gold_t6_p==t6_p\n",
    "    \n",
    "    \n",
    "    "
   ]
  },
  {
   "cell_type": "code",
   "execution_count": 9,
   "id": "36a8d09a-92db-48b6-b9b7-8b752e03a97b",
   "metadata": {},
   "outputs": [],
   "source": [
    "test_Hermite_encoding_qSymbOp()"
   ]
  },
  {
   "cell_type": "code",
   "execution_count": null,
   "id": "ea477c22-ecbd-4c26-9a20-d7c23cdef625",
   "metadata": {
    "tags": []
   },
   "outputs": [],
   "source": []
  },
  {
   "cell_type": "code",
   "execution_count": null,
   "id": "9bb67ccf-a7e3-4195-91f2-8840b3e08edf",
   "metadata": {
    "tags": []
   },
   "outputs": [],
   "source": []
  },
  {
   "cell_type": "code",
   "execution_count": null,
   "id": "f10d56af-3666-4518-b90e-8ab4e1b974ce",
   "metadata": {
    "tags": []
   },
   "outputs": [],
   "source": []
  },
  {
   "cell_type": "code",
   "execution_count": null,
   "id": "5246fa38-8e8b-48f6-8bf0-7c2f4cde3e57",
   "metadata": {
    "tags": []
   },
   "outputs": [],
   "source": []
  },
  {
   "cell_type": "code",
   "execution_count": null,
   "id": "7e81cec0-143c-47a7-9b41-6bc593ca6cab",
   "metadata": {},
   "outputs": [],
   "source": []
  }
 ],
 "metadata": {
  "kernelspec": {
   "display_name": "Python 3 (ipykernel)",
   "language": "python",
   "name": "python3"
  },
  "language_info": {
   "codemirror_mode": {
    "name": "ipython",
    "version": 3
   },
   "file_extension": ".py",
   "mimetype": "text/x-python",
   "name": "python",
   "nbconvert_exporter": "python",
   "pygments_lexer": "ipython3",
   "version": "3.9.17"
  }
 },
 "nbformat": 4,
 "nbformat_minor": 5
}
