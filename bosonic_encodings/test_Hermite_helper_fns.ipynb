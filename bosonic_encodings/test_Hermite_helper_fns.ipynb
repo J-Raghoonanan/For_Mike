{
 "cells": [
  {
   "cell_type": "code",
   "execution_count": 1,
   "id": "5974fc69-fe67-4dfc-98d4-9dabc1c427e0",
   "metadata": {
    "tags": []
   },
   "outputs": [
    {
     "name": "stdout",
     "output_type": "stream",
     "text": [
      "importing Jupyter notebook from Hermite_helper_fns.ipynb\n"
     ]
    }
   ],
   "source": [
    "# Tests for hermite_enc.py\n",
    "# \n",
    "# pytest -s test_Hermite_enc.ipynb\n",
    "\n",
    "import import_ipynb\n",
    "# %run X_or_P_Hermite_enc.ipynb\n",
    "import Hermite_helper_fns\n",
    "from openfermion import QubitOperator\n",
    "import mat2qubit as m2q"
   ]
  },
  {
   "cell_type": "code",
   "execution_count": 4,
   "id": "6fba6133-2bc9-400a-9649-ce970472a86a",
   "metadata": {
    "tags": []
   },
   "outputs": [],
   "source": [
    "def test_is_number():\n",
    "    '''\n",
    "    Test is_number()\n",
    "    '''\n",
    "    assert Hermite_helper_fns.is_number(\"3+2j\")\n",
    "    assert not Hermite_helper_fns.is_number(\"A\")\n",
    "    assert not Hermite_helper_fns.is_number(\"P2\")\n",
    "    "
   ]
  },
  {
   "cell_type": "code",
   "execution_count": 5,
   "id": "1795e9ab-5857-4c6e-b707-84611b5834e0",
   "metadata": {
    "tags": []
   },
   "outputs": [],
   "source": [
    "test_is_number()"
   ]
  },
  {
   "cell_type": "code",
   "execution_count": 8,
   "id": "de5198a1-7cee-4760-adc2-7ca7690aa813",
   "metadata": {
    "tags": []
   },
   "outputs": [],
   "source": [
    "def test_is_power_of_two():\n",
    "    '''\n",
    "    Test is_power_of_two()\n",
    "    '''\n",
    "    assert Hermite_helper_fns.is_power_of_two(4)\n",
    "    assert Hermite_helper_fns.is_power_of_two(256)\n",
    "    assert not Hermite_helper_fns.is_power_of_two(5)\n",
    "    "
   ]
  },
  {
   "cell_type": "code",
   "execution_count": 9,
   "id": "52b3484c-1653-4e43-a400-2ed3900fae53",
   "metadata": {
    "tags": []
   },
   "outputs": [],
   "source": [
    "test_is_power_of_two()"
   ]
  },
  {
   "cell_type": "code",
   "execution_count": null,
   "id": "8ab4dfa5-f24b-4f70-9530-ab929a3cafd1",
   "metadata": {},
   "outputs": [],
   "source": []
  }
 ],
 "metadata": {
  "kernelspec": {
   "display_name": "Python 3 (ipykernel)",
   "language": "python",
   "name": "python3"
  },
  "language_info": {
   "codemirror_mode": {
    "name": "ipython",
    "version": 3
   },
   "file_extension": ".py",
   "mimetype": "text/x-python",
   "name": "python",
   "nbconvert_exporter": "python",
   "pygments_lexer": "ipython3",
   "version": "3.9.17"
  }
 },
 "nbformat": 4,
 "nbformat_minor": 5
}
