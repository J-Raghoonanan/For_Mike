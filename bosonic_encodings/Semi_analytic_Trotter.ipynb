{
 "cells": [
  {
   "cell_type": "code",
   "execution_count": 1,
   "id": "3651539a-1b1b-4d01-b3f4-e820c4353efc",
   "metadata": {
    "tags": []
   },
   "outputs": [],
   "source": [
    "import cirq\n",
    "import qiskit as q\n",
    "from qiskit.quantum_info import Pauli, SparsePauliOp\n",
    "from qiskit.circuit.library import PauliEvolutionGate, QFT\n",
    "from qiskit.synthesis import SuzukiTrotter\n",
    "from openfermion import QubitOperator\n",
    "\n",
    "\n",
    "import numpy as np\n",
    "import scipy, math, csv, os,sys\n",
    "import matplotlib.pyplot as plt"
   ]
  },
  {
   "cell_type": "code",
   "execution_count": 2,
   "id": "6b758539-4bf2-451d-9ff7-3aeb94300a38",
   "metadata": {
    "tags": []
   },
   "outputs": [],
   "source": [
    "def convert_op_string_to_usefulForm(op, n):\n",
    "    '''\n",
    "    Take a qubit operator operator, e.g. '.5 [Z0 Z1] + 4 [Z0 Z2]' and \n",
    "    construct it into a SparsePauliOp form to be used in time evolution\n",
    "    \n",
    "    args:\n",
    "    op: The operator to be converted\n",
    "    n: Total number of qubits\n",
    "    \n",
    "    Yield:\n",
    "    Op_to_implement: The operator to implement in the circuit (can think of as ~'Hamiltonian')\n",
    "    '''\n",
    "    Pauli_list=[]\n",
    "    \n",
    "    for i in op:\n",
    "        temp_str=''\n",
    "        for j in range(n):\n",
    "            temp_str+='I'\n",
    "            \n",
    "        term=str(i).split(\" \")\n",
    "        coeff = complex(term[0])\n",
    "        \n",
    "        term.pop(0)\n",
    "        for op_term in term:\n",
    "            if op_term !='[]':\n",
    "                t_str=op_term.replace('[','')\n",
    "                t_str=t_str.replace(']','')\n",
    "                # t_list=t_str.split(\" \")\n",
    "                \n",
    "                Pauli_op = t_str[0]\n",
    "                qub_ind = int(t_str[1])\n",
    "                temp_str = temp_str[::-1] # reverse the string so that python indexing matches qubit labelling\n",
    "                \n",
    "                if qub_ind==len(temp_str)-1:\n",
    "                    temp_str = temp_str[:qub_ind]+Pauli_op\n",
    "                    # print(qub_ind)\n",
    "                elif qub_ind<len(temp_str)-1:\n",
    "                    temp_str = temp_str[:qub_ind]+Pauli_op+temp_str[qub_ind+1:]\n",
    "                temp_str = temp_str[::-1] # reverse back\n",
    "        \n",
    "        \n",
    "        Pauli_list.append((temp_str,coeff))\n",
    "            \n",
    "        \n",
    "    Op_to_implement=SparsePauliOp.from_list(Pauli_list)\n",
    "    return Op_to_implement, Pauli_list\n",
    "        \n",
    "    "
   ]
  },
  {
   "cell_type": "code",
   "execution_count": 3,
   "id": "fb631cb7-511e-412b-846c-c61d549bf880",
   "metadata": {
    "tags": []
   },
   "outputs": [],
   "source": [
    "def orderOfMagnitude(number):\n",
    "    return math.floor(math.log(number, 10))"
   ]
  },
  {
   "cell_type": "code",
   "execution_count": null,
   "id": "c713e5e1-e813-4e3f-b86c-f8a217f429bf",
   "metadata": {
    "tags": []
   },
   "outputs": [],
   "source": []
  },
  {
   "cell_type": "code",
   "execution_count": 4,
   "id": "fdf2168e-95ca-490a-8b98-238d361aa392",
   "metadata": {
    "tags": []
   },
   "outputs": [],
   "source": [
    "def one_norm(Pauli_list):\n",
    "    '''\n",
    "    Calculate the one-norm of a k-local Hamiltonian\n",
    "    \n",
    "    Args:\n",
    "    ham: Hamiltonian given as a Pauli list\n",
    "    \n",
    "    '''\n",
    "    one_norm = 0\n",
    "    \n",
    "    for index in range(len(Pauli_list)):\n",
    "        sublist = Pauli_list[index]\n",
    "        \n",
    "        # Check to see if the k-local operator is non-trivial\n",
    "        non_triv=0\n",
    "        for op in sublist[0]:\n",
    "            if op!= 'I':\n",
    "                non_triv+=1\n",
    "        \n",
    "        if non_triv>0:\n",
    "            summand = SparsePauliOp.from_list([sublist]) # The individual summand from the qubit operator expression\n",
    "            summand_as_matrix = summand.to_matrix() \n",
    "            # print(summand_as_matrix)\n",
    "            sub_norm = np.linalg.norm(summand_as_matrix)\n",
    "            one_norm += sub_norm\n",
    "       \n",
    "    \n",
    "    return one_norm"
   ]
  },
  {
   "cell_type": "code",
   "execution_count": null,
   "id": "396bb8a7-905b-42da-a7b4-fba881abc7a2",
   "metadata": {
    "tags": []
   },
   "outputs": [],
   "source": []
  },
  {
   "cell_type": "code",
   "execution_count": 5,
   "id": "ef26f29d-0ab9-49e0-86a1-96ea1c759f23",
   "metadata": {
    "tags": []
   },
   "outputs": [],
   "source": [
    "def q2_upper_bound(p=2,ind=0):\n",
    "    '''\n",
    "    Calculate upper bound Trotter number for q2_0 (Hermite and SB)\n",
    "    \n",
    "    Arg:\n",
    "    p: order of the Suzuki-Trotter approximation\n",
    "    '''\n",
    "    \n",
    "    # Calculate 1-norms and induced 1-norms\n",
    "    \n",
    "    if ind==0:\n",
    "        q2_Hermite = QubitOperator(\"(5+0j) [] + (4+0j) [Z0 Z1]\")\n",
    "        q2_SB = QubitOperator(\"2.0 [] + -0.5 [Z0] + -0.25881904510252074 [Z0 X1] + 0.9659258262890682 [X1] + -0.9999999999999998 [Z1]\")\n",
    "    \n",
    "        Hermite_P_list = convert_op_string_to_usefulForm(q2_Hermite, 2)[1]\n",
    "        Hermite_norm = one_norm(Hermite_P_list)\n",
    "        print(\"One-norm for Hermite encoding: \", Hermite_norm)\n",
    "    \n",
    "        SB_P_list = convert_op_string_to_usefulForm(q2_SB, 2)[1]\n",
    "        SB_norm = one_norm(SB_P_list)\n",
    "        print(\"One-norm for SB encoding: \", SB_norm)\n",
    "    \n",
    "        '''\n",
    "        The induced 1-norms for q2 Hermite and SB turn out to be the same as the regular one-norm\n",
    "        '''\n",
    "        Hermite_ind_norm = Hermite_norm\n",
    "        SB_ind_norm = SB_norm\n",
    "    \n",
    "    elif ind==1:\n",
    "        q2_Hermite = QubitOperator(\"(21+0j) [] + (4+0j) [Z0 Z1] + (8+0j) [Z0 Z2] + (16+0j) [Z1 Z2]\")\n",
    "        q2_Gray = QubitOperator(\"4.0 [] + 1.9777086973269737 [X0 X1] + -1.0117828710379055 [X0 X1 Z2] + -0.9920296962671666 [X0 Z1 X2] + 0.9920296962671666 [X0 X2] + (0.003970132131735471+0j) [Y0 Y1] + (0.25484891297078527+0j) [Y0 Y1 Z2] + (0.1260042924827281+0j) [Y0 Z1 Y2] + (-0.1260042924827281+0j) [Y0 Y2] + -0.5000000000000001 [Z0 Z1 Z2] + -1.0 [Z1 Z2] + -1.9999999999999996 [Z2]\")\n",
    "        \n",
    "        Hermite_P_list = convert_op_string_to_usefulForm(q2_Hermite, 3)[1]\n",
    "        Hermite_norm = one_norm(Hermite_P_list)\n",
    "        print(\"One-norm for Hermite encoding: \", Hermite_norm)\n",
    "    \n",
    "        Gray_P_list = convert_op_string_to_usefulForm(q2_Gray, 3)[1]\n",
    "        Gray_norm = one_norm(Gray_P_list)\n",
    "        print(\"One-norm for Gray encoding: \", Gray_norm)\n",
    "        \n",
    "        ## Induced 1-norms\n",
    "        \n",
    "        \n",
    "        \n",
    "    # Calculate order of Trotter number\n",
    "    # Assume t=1 for now\n",
    "    t=1\n",
    "    err = 1e-6\n",
    "    Hermite_r = (Hermite_norm * pow(Hermite_ind_norm,(1/p))*pow(t,1+1/p))/pow(err,1/p)\n",
    "    SB_r = (SB_norm * pow(SB_ind_norm,(1/p))*pow(t,1+1/p))/pow(err,1/p)\n",
    "    \n",
    "    print(\"Hermite encoding: r = O(\", orderOfMagnitude(Hermite_r),\")\")\n",
    "    print(\"SB encoding: r = O(\", orderOfMagnitude(SB_r),\")\")\n",
    "    \n",
    "    return "
   ]
  },
  {
   "cell_type": "code",
   "execution_count": 6,
   "id": "55db5b6d-4834-4cbe-83fa-4f447632c795",
   "metadata": {
    "tags": []
   },
   "outputs": [
    {
     "name": "stdout",
     "output_type": "stream",
     "text": [
      "One-norm for Hermite encoding:  8.0\n",
      "One-norm for SB encoding:  5.449489742783177\n",
      "Hermite encoding: r = O( 4 )\n",
      "SB encoding: r = O( 4 )\n",
      "\n"
     ]
    }
   ],
   "source": [
    "q2_upper_bound()\n",
    "print()\n",
    "# q2_upper_bound(ind=1)\n",
    "\n"
   ]
  },
  {
   "cell_type": "code",
   "execution_count": null,
   "id": "cb29616f-5ddd-41fa-8c07-83ed1497b28f",
   "metadata": {
    "tags": []
   },
   "outputs": [],
   "source": []
  },
  {
   "cell_type": "code",
   "execution_count": 7,
   "id": "de3157e7-f105-435f-826f-2ec545c68093",
   "metadata": {
    "tags": []
   },
   "outputs": [],
   "source": [
    "def q3_upper_bound(p=2):\n",
    "    '''\n",
    "    Calculate upper bound Trotter number for q3_0 (Hermite and SB)\n",
    "    '''\n",
    "    \n",
    "    q3_Hermite = QubitOperator(\"(41+0j) [] + (40+0j) [Z0 Z1]\")\n",
    "    q3_SB = QubitOperator(\"3.286006046520985 [X0] + 1.933012701892219 [X0 X1] + -2.225345874741164 [X0 Z1] + (1.0669872981077806+0j) [Y0 Y1]\")\n",
    "    \n",
    "    Hermite_P_list = convert_op_string_to_usefulForm(q3_Hermite, 2)[1]\n",
    "    Hermite_norm = one_norm(Hermite_P_list)\n",
    "    print(\"One-norm for Hermite encoding: \", Hermite_norm)\n",
    "    \n",
    "    SB_P_list = convert_op_string_to_usefulForm(q3_SB, 2)[1]\n",
    "    SB_norm = one_norm(SB_P_list)\n",
    "    print(\"One-norm for SB encoding: \", SB_norm)\n",
    "    \n",
    "    '''\n",
    "    The induced 1-norms for q3\n",
    "    '''\n",
    "    Hermite_ind_norm = Hermite_norm\n",
    "    SB_ind_norm = SB_norm\n",
    "    \n",
    "    # Calculate order of Trotter number\n",
    "    # Assume t=1 for now\n",
    "    t=1\n",
    "    err = 1e-6\n",
    "    Hermite_r = (Hermite_norm * pow(Hermite_ind_norm,(1/p))*pow(t,1+1/p))/pow(err,1/p)\n",
    "    SB_r = (SB_norm * pow(SB_ind_norm,(1/p))*pow(t,1+1/p))/pow(err,1/p)\n",
    "    \n",
    "    print(\"Hermite encoding: r = O(\", orderOfMagnitude(Hermite_r),\")\")\n",
    "    print(\"SB encoding: r = O(\", orderOfMagnitude(SB_r),\")\")\n",
    "    \n",
    "    return"
   ]
  },
  {
   "cell_type": "code",
   "execution_count": 8,
   "id": "49152e6c-f669-43fe-b457-fe5b25fc57d8",
   "metadata": {
    "tags": []
   },
   "outputs": [
    {
     "name": "stdout",
     "output_type": "stream",
     "text": [
      "One-norm for Hermite encoding:  80.0\n",
      "One-norm for SB encoding:  17.022703842524297\n",
      "Hermite encoding: r = O( 5 )\n",
      "SB encoding: r = O( 4 )\n"
     ]
    }
   ],
   "source": [
    "q3_upper_bound()"
   ]
  },
  {
   "cell_type": "code",
   "execution_count": 9,
   "id": "f5724456-6a23-44f8-a51f-7b6273741155",
   "metadata": {
    "tags": []
   },
   "outputs": [],
   "source": [
    "def calc_max_locality(ham,n):\n",
    "    '''\n",
    "    Determine the maximum locality of a given Hamiltonian operator\n",
    "    \n",
    "    Args:\n",
    "    ham: Hamiltonian\n",
    "    n: number of qubits\n",
    "    \n",
    "    Yield:\n",
    "    k: The max locality\n",
    "    '''\n",
    "    \n",
    "    P_list = convert_op_string_to_usefulForm(ham, n)[1]\n",
    "    \n",
    "    k=0\n",
    "    for index in range(len(P_list)):\n",
    "        sublist = P_list[index]\n",
    "        \n",
    "        # Check to see if the k-local operator is non-trivial\n",
    "        non_triv=0\n",
    "        for op in sublist[0]:\n",
    "            if op!= 'I':\n",
    "                non_triv+=1\n",
    "        k=max(k,non_triv)\n",
    "        \n",
    "    \n",
    "    \n",
    "    return k"
   ]
  },
  {
   "cell_type": "code",
   "execution_count": 10,
   "id": "a9c5de69-8aeb-4598-8e36-4601668d5bb8",
   "metadata": {},
   "outputs": [],
   "source": [
    "# q2_Hermite = QubitOperator(\"(5+0j) [] + (4+0j) [Z0 Z1]\")\n",
    "# q2_SB = QubitOperator(\"2.0 [] + -0.5 [Z0] + -0.25881904510252074 [Z0 X1] + 0.9659258262890682 [X1] + -0.9999999999999998 [Z1]\")\n",
    "# t1 = calc_max_locality(q2_Hermite,2)\n",
    "# t2 = calc_max_locality(q2_SB,2)\n",
    "# print(t1,t2)"
   ]
  },
  {
   "cell_type": "code",
   "execution_count": 11,
   "id": "01ddfa92-6006-48f2-90be-c0a81fb95b4a",
   "metadata": {},
   "outputs": [],
   "source": [
    "# q3_Hermite = QubitOperator(\"(41+0j) [] + (40+0j) [Z0 Z1]\")\n",
    "# q3_SB = QubitOperator(\"3.286006046520985 [X0] + 1.933012701892219 [X0 X1] + -2.225345874741164 [X0 Z1] + (1.0669872981077806+0j) [Y0 Y1]\")\n",
    "# t3 = calc_max_locality(q3_Hermite,2)\n",
    "# t4 = calc_max_locality(q3_SB,2)\n",
    "# print(t3,t4)"
   ]
  },
  {
   "cell_type": "code",
   "execution_count": 15,
   "id": "773a1b22-ebf3-4fcc-82c6-12afe086fdbd",
   "metadata": {},
   "outputs": [],
   "source": [
    "def update_all_single_ops_circuits():\n",
    "    '''\n",
    "    Add maximum locality to single_op_df_updated_v3.csv\n",
    "    '''\n",
    "    \n",
    "    Circuit_list=[]\n",
    "    \n",
    "    # Specify the relative path to the CSV file\n",
    "    # relative_path = \"single_op_df_updated_v3.csv\"\n",
    "    relative_path = \"single_op_df_updated_v5.csv\"\n",
    "    # relative_path = \"csv_files/128_single_op_df.csv\"\n",
    "\n",
    "    # Get the absolute path of the CSV file\n",
    "    csv_path = os.path.abspath(relative_path)\n",
    "    \n",
    "    # Specify the relative path to the new CSV file with the added column\n",
    "    # relative_output_path = \"single_op_df_updated_v4.csv\"\n",
    "    relative_output_path = \"single_op_df_updated_v6.csv\"\n",
    "    # relative_output_path = \"128_single_op_df_updated.csv\"\n",
    "\n",
    "    # Get the absolute path of the new CSV file\n",
    "    output_csv_path = os.path.abspath(relative_output_path)\n",
    "    \n",
    "    with open(csv_path, 'r') as infile, open(output_csv_path, 'w', newline='') as outfile:\n",
    "        csv_reader = csv.reader(infile)\n",
    "        csv_writer = csv.writer(outfile)\n",
    "        \n",
    "        # Read the header row from the original CSV file\n",
    "        header = next(csv_reader)\n",
    "    \n",
    "        # Add the name of the new column to the header\n",
    "        header.append(\"Maximum Locality\") \n",
    "        \n",
    "        # Write the updated header to the new CSV file\n",
    "        csv_writer.writerow(header)\n",
    "    \n",
    "        # Iterate through each row in the CSV file\n",
    "        for row in csv_reader:\n",
    "            # Access values in each row by index or column name\n",
    "            op_name = row[0]  # Access the first column (Column1)\n",
    "            d_val_str = row[1]  # Access the second column (Column2)\n",
    "            d_val = list(map(int, d_val_str[1:-1].split(',')))\n",
    "            enc_name = row[2]  # Access the third column (Column3)\n",
    "            qub_operator = QubitOperator(row[3])\n",
    "            Trotter_info = row[4]\n",
    "            \n",
    "            num_qubits = int(math.log(d_val[0],2))\n",
    "            \n",
    "            k = calc_max_locality(qub_operator,num_qubits)\n",
    "            \n",
    "            # Modify \"new_data\" with the information you want to add to the new column\n",
    "            row.append(k)\n",
    "        \n",
    "            # Write the updated row to the new CSV file\n",
    "            csv_writer.writerow(row)   \n",
    "                \n",
    "            \n",
    "    return \n",
    "            \n",
    "            \n",
    "            \n",
    "            \n",
    "            \n",
    "            \n",
    "    "
   ]
  },
  {
   "cell_type": "code",
   "execution_count": 16,
   "id": "2a708f24-7686-4691-a2a7-890980c1c3ff",
   "metadata": {
    "tags": []
   },
   "outputs": [],
   "source": [
    "update_all_single_ops_circuits()"
   ]
  },
  {
   "cell_type": "code",
   "execution_count": null,
   "id": "245d3ca3-7d64-4d00-9b08-aa194a422812",
   "metadata": {},
   "outputs": [],
   "source": []
  }
 ],
 "metadata": {
  "kernelspec": {
   "display_name": "Python 3 (ipykernel)",
   "language": "python",
   "name": "python3"
  },
  "language_info": {
   "codemirror_mode": {
    "name": "ipython",
    "version": 3
   },
   "file_extension": ".py",
   "mimetype": "text/x-python",
   "name": "python",
   "nbconvert_exporter": "python",
   "pygments_lexer": "ipython3",
   "version": "3.9.17"
  }
 },
 "nbformat": 4,
 "nbformat_minor": 5
}
