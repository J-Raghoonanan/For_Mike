{
 "cells": [
  {
   "cell_type": "code",
   "execution_count": 1,
   "id": "1408e358-615f-4dab-b4ce-f203a40754f6",
   "metadata": {
    "tags": []
   },
   "outputs": [
    {
     "name": "stdout",
     "output_type": "stream",
     "text": [
      "importing Jupyter notebook from Semi_analytic_Trotter.ipynb\n"
     ]
    }
   ],
   "source": [
    "# Tests for Semi_analytic_Trotter.py\n",
    "# \n",
    "# pytest -s test_Semi_analytic_Trotter.ipynb\n",
    "\n",
    "import import_ipynb\n",
    "import Semi_analytic_Trotter\n",
    "from openfermion import QubitOperator\n",
    "import mat2qubit as m2q\n",
    "from qiskit.quantum_info import Pauli, SparsePauliOp"
   ]
  },
  {
   "cell_type": "code",
   "execution_count": 2,
   "id": "28b489ff-1dd5-41ae-ac6c-000aa67d62ac",
   "metadata": {
    "tags": []
   },
   "outputs": [],
   "source": [
    "def test_one_norm():\n",
    "    '''\n",
    "    Test one_norm\n",
    "    '''\n",
    "    # Trivial case\n",
    "    op=QubitOperator(\"10 []\")\n",
    "    P_list=Semi_analytic_Trotter.convert_op_string_to_usefulForm(op, 4)[1]\n",
    "    norm = Semi_analytic_Trotter.one_norm(P_list)\n",
    "    assert norm==0\n",
    "    \n",
    "    # Simple cases \n",
    "    op=QubitOperator(\"5 [Z0]\")\n",
    "    P_list=Semi_analytic_Trotter.convert_op_string_to_usefulForm(op, 2)[1]\n",
    "    norm = Semi_analytic_Trotter.one_norm(P_list)\n",
    "    assert norm==10\n",
    "    \n",
    "    op=QubitOperator(\"5 [] + 5 [Z0]\")\n",
    "    P_list=Semi_analytic_Trotter.convert_op_string_to_usefulForm(op, 2)[1]\n",
    "    norm = Semi_analytic_Trotter.one_norm(P_list)\n",
    "    assert norm==10\n",
    "    \n",
    "    # Complex cases \n",
    "    op=QubitOperator(\"[Z0] + [Z1]\")\n",
    "    P_list=Semi_analytic_Trotter.convert_op_string_to_usefulForm(op, 4)[1]\n",
    "    norm = Semi_analytic_Trotter.one_norm(P_list)\n",
    "    assert norm==8\n",
    "    \n",
    "    op=QubitOperator(\"0.5 [Z0 Z1] + 4 [Z0 Z2]\")\n",
    "    P_list=Semi_analytic_Trotter.convert_op_string_to_usefulForm(op, 4)[1]\n",
    "    norm = Semi_analytic_Trotter.one_norm(P_list)\n",
    "    assert norm==18\n",
    "    \n",
    "    return\n",
    "    "
   ]
  },
  {
   "cell_type": "code",
   "execution_count": 3,
   "id": "dd28e075-1d2d-49cf-8479-5ebc7e30f622",
   "metadata": {
    "tags": []
   },
   "outputs": [],
   "source": [
    "test_one_norm()"
   ]
  },
  {
   "cell_type": "code",
   "execution_count": 12,
   "id": "83966f0f-e984-470f-b9ed-e11bce2ec67d",
   "metadata": {
    "tags": []
   },
   "outputs": [],
   "source": [
    "def test_calc_max_locality():\n",
    "    '''\n",
    "    Test calc_max_locality\n",
    "    '''\n",
    "    \n",
    "    op=QubitOperator(\"10 []\")\n",
    "    k = Semi_analytic_Trotter.calc_max_locality(op,4)\n",
    "    assert k==0\n",
    "    \n",
    "    op=QubitOperator(\"5 [Z0]\")\n",
    "    k = Semi_analytic_Trotter.calc_max_locality(op,2)\n",
    "    assert k==1\n",
    "    \n",
    "    op=QubitOperator(\"5 [] + 5 [Z0]\")\n",
    "    k = Semi_analytic_Trotter.calc_max_locality(op,2)\n",
    "    assert k==1\n",
    "    \n",
    "    op=QubitOperator(\"[Z0] + [Z1]\")\n",
    "    k = Semi_analytic_Trotter.calc_max_locality(op,4)\n",
    "    assert k==1\n",
    "    \n",
    "    op=QubitOperator(\"0.5 [Z0 Z1] + 4 [Z0 Z2]\")\n",
    "    k = Semi_analytic_Trotter.calc_max_locality(op,4)\n",
    "    assert k==2\n",
    "    \n",
    "    op=QubitOperator(\"[] + [Z0 Z2] + [Z1]\")\n",
    "    k = Semi_analytic_Trotter.calc_max_locality(op,4)\n",
    "    assert k==2\n",
    "    \n",
    "    op=QubitOperator(\"[] + [Z0 Z2] + [Z0 Z1 Z2]\")\n",
    "    k = Semi_analytic_Trotter.calc_max_locality(op,4)\n",
    "    assert k==3\n",
    "    \n",
    "    \n",
    "    return"
   ]
  },
  {
   "cell_type": "code",
   "execution_count": 13,
   "id": "62d2745b-6f9c-486c-b368-2dba465da83c",
   "metadata": {},
   "outputs": [],
   "source": [
    "test_calc_max_locality()"
   ]
  },
  {
   "cell_type": "code",
   "execution_count": null,
   "id": "c815f19c-8a77-4e6b-83a8-5f724c9d98d9",
   "metadata": {},
   "outputs": [],
   "source": []
  },
  {
   "cell_type": "code",
   "execution_count": null,
   "id": "179c070a-0337-4cc8-9553-984a29e34c91",
   "metadata": {},
   "outputs": [],
   "source": []
  }
 ],
 "metadata": {
  "kernelspec": {
   "display_name": "Python 3 (ipykernel)",
   "language": "python",
   "name": "python3"
  },
  "language_info": {
   "codemirror_mode": {
    "name": "ipython",
    "version": 3
   },
   "file_extension": ".py",
   "mimetype": "text/x-python",
   "name": "python",
   "nbconvert_exporter": "python",
   "pygments_lexer": "ipython3",
   "version": "3.9.17"
  }
 },
 "nbformat": 4,
 "nbformat_minor": 5
}
