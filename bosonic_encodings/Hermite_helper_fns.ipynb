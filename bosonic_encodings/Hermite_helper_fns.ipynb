{
 "cells": [
  {
   "cell_type": "code",
   "execution_count": 1,
   "id": "35180fbc-10a4-420b-8ed1-c3b347906d88",
   "metadata": {
    "tags": []
   },
   "outputs": [],
   "source": [
    "import pandas as pd, math, numpy as np\n",
    "import cirq\n",
    "import mat2qubit as m2q\n",
    "from openfermion import QubitOperator\n",
    "from itertools import combinations\n",
    "import import_ipynb"
   ]
  },
  {
   "cell_type": "code",
   "execution_count": 1,
   "id": "7a7187d1-da74-4a1f-9dbb-25d9e7eab4e0",
   "metadata": {
    "tags": []
   },
   "outputs": [],
   "source": [
    "def is_number(n):\n",
    "    \"\"\"\n",
    "    Given a string n, determine whether the string represents a pure number or not\n",
    "    \"\"\"\n",
    "    is_number = True\n",
    "    try:\n",
    "        #      v type-casting the number here as `complex`, instead of `float`\n",
    "        num = complex(n)\n",
    "        is_number = num == num\n",
    "    except ValueError:\n",
    "        is_number = False\n",
    "    return is_number"
   ]
  },
  {
   "cell_type": "code",
   "execution_count": 2,
   "id": "ea3e3fee-fed6-41f0-9fe0-563ff6ab515b",
   "metadata": {
    "tags": []
   },
   "outputs": [],
   "source": [
    "def is_power_of_two(k):\n",
    "    return k != 0 and ((k & (k - 1)) == 0)"
   ]
  },
  {
   "cell_type": "code",
   "execution_count": 4,
   "id": "989bc2a7-2f0c-4d97-9284-921521c31b59",
   "metadata": {
    "tags": []
   },
   "outputs": [],
   "source": []
  },
  {
   "cell_type": "code",
   "execution_count": 5,
   "id": "a247abce-62de-44a5-9090-c873a3b2a78e",
   "metadata": {
    "tags": []
   },
   "outputs": [],
   "source": []
  },
  {
   "cell_type": "code",
   "execution_count": 6,
   "id": "68e0bc41-9c1c-4203-a116-eea3f87168be",
   "metadata": {
    "tags": []
   },
   "outputs": [],
   "source": []
  },
  {
   "cell_type": "code",
   "execution_count": 7,
   "id": "0fe5b5ac-33cb-43ee-b8e2-bd567376be4d",
   "metadata": {
    "tags": []
   },
   "outputs": [],
   "source": []
  },
  {
   "cell_type": "code",
   "execution_count": 8,
   "id": "4ac09b6d-c26f-4018-aa1a-1d3874f91d3a",
   "metadata": {
    "tags": []
   },
   "outputs": [],
   "source": []
  },
  {
   "cell_type": "code",
   "execution_count": null,
   "id": "f33cc399-3bb2-4c7a-8b06-923e228bf5ce",
   "metadata": {},
   "outputs": [],
   "source": []
  }
 ],
 "metadata": {
  "kernelspec": {
   "display_name": "Python 3 (ipykernel)",
   "language": "python",
   "name": "python3"
  },
  "language_info": {
   "codemirror_mode": {
    "name": "ipython",
    "version": 3
   },
   "file_extension": ".py",
   "mimetype": "text/x-python",
   "name": "python",
   "nbconvert_exporter": "python",
   "pygments_lexer": "ipython3",
   "version": "3.9.17"
  }
 },
 "nbformat": 4,
 "nbformat_minor": 5
}
